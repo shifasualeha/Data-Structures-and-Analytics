{
  "nbformat": 4,
  "nbformat_minor": 0,
  "metadata": {
    "colab": {
      "provenance": [],
      "authorship_tag": "ABX9TyOb8tdedb6BNrgQ9OBICfNE",
      "include_colab_link": true
    },
    "kernelspec": {
      "name": "python3",
      "display_name": "Python 3"
    },
    "language_info": {
      "name": "python"
    }
  },
  "cells": [
    {
      "cell_type": "markdown",
      "metadata": {
        "id": "view-in-github",
        "colab_type": "text"
      },
      "source": [
        "<a href=\"https://colab.research.google.com/github/shifasualeha/Data-Structures-and-Analytics/blob/main/LAB4.ipynb\" target=\"_parent\"><img src=\"https://colab.research.google.com/assets/colab-badge.svg\" alt=\"Open In Colab\"/></a>"
      ]
    },
    {
      "cell_type": "code",
      "execution_count": 3,
      "metadata": {
        "colab": {
          "base_uri": "https://localhost:8080/"
        },
        "id": "8SKcVjmAPFjJ",
        "outputId": "7e68aa83-6f99-4aa7-da8f-4c38a6f88af0"
      },
      "outputs": [
        {
          "output_type": "stream",
          "name": "stdout",
          "text": [
            "[[ 2  4  6  8]\n",
            " [10 12 14 16]\n",
            " [18 20 22 24]\n",
            " [26 28 30 32]]\n",
            "Original Array:\n",
            "[[ 1  2  3  4  5]\n",
            " [ 6  7  8  9 10]\n",
            " [11 12 13 14 15]\n",
            " [16 17 18 19 20]\n",
            " [21 22 23 24 25]]\n",
            "\n",
            "Array with Odd Numbers:\n",
            "[ 1  3  5  7  9 11 13 15 17 19 21 23 25]\n",
            "[[1. 1. 1. 1.]\n",
            " [2. 2. 2. 2.]\n",
            " [3. 3. 3. 3.]\n",
            " [4. 4. 4. 4.]]\n",
            "Drive already mounted at /NumPy.ipnyb; to attempt to forcibly remount, call drive.mount(\"/NumPy.ipnyb\", force_remount=True).\n"
          ]
        }
      ],
      "source": [
        "#########################Task 1\n",
        "import numpy as np\n",
        "\n",
        "X = np.arange(2, 33, 2).reshape(4, 4)\n",
        "print(X)\n",
        "######################## Task 2\n",
        "import numpy as np\n",
        "X = np.arange(1, 26).reshape(5, 5)\n",
        "Y = X[X % 2 != 0]\n",
        "print(\"Original Array:\")\n",
        "print(X)\n",
        "print(\"\\nArray with Odd Numbers:\")\n",
        "print(Y)\n",
        "\n",
        "\n",
        "\n",
        "\n",
        "\n",
        "\n",
        "\n",
        "\n",
        "\n",
        "############################Task 3\n",
        "import numpy as np\n",
        "\n",
        "X = np.arange(1, 5).reshape(4, 1) * np.ones((1, 4))\n",
        "\n",
        "print(X)\n",
        "\n",
        "######################### Task 4\n",
        "\n",
        "from google.colab import drive\n",
        "drive.mount('/NumPy.ipnyb')"
      ]
    }
  ]
}
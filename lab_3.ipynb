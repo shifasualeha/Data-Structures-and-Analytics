{
  "nbformat": 4,
  "nbformat_minor": 0,
  "metadata": {
    "colab": {
      "provenance": [],
      "authorship_tag": "ABX9TyO5ovwBshrlhrDWDdHc6WLT",
      "include_colab_link": true
    },
    "kernelspec": {
      "name": "python3",
      "display_name": "Python 3"
    },
    "language_info": {
      "name": "python"
    }
  },
  "cells": [
    {
      "cell_type": "markdown",
      "metadata": {
        "id": "view-in-github",
        "colab_type": "text"
      },
      "source": [
        "<a href=\"https://colab.research.google.com/github/shifasualeha/Data-Structures-and-Analytics/blob/main/lab_3.ipynb\" target=\"_parent\"><img src=\"https://colab.research.google.com/assets/colab-badge.svg\" alt=\"Open In Colab\"/></a>"
      ]
    },
    {
      "cell_type": "code",
      "source": [],
      "metadata": {
        "id": "H-9r3Zwfy9qd"
      },
      "execution_count": null,
      "outputs": []
    },
    {
      "cell_type": "code",
      "execution_count": 16,
      "metadata": {
        "colab": {
          "base_uri": "https://localhost:8080/"
        },
        "id": "wOKw4MF_uTLF",
        "outputId": "23abe31b-2c8f-479f-f171-386ff263ab33"
      },
      "outputs": [
        {
          "output_type": "stream",
          "name": "stdout",
          "text": [
            "expected result: 10, actual result: 10.0\n",
            "expected result: 7123.6902801, actual result: 7123.690280065897\n",
            "1 week(s) and 3 day(s).\n",
            "[57.0, 58.2, 50.6, 27.2]\n",
            "['Chicago', 'Denver', 'Boston']\n",
            "Enter a list of names separated by spaces: jkk,lkj,mlo\n",
            "Enter a list of the number of assignments separated by spaces: 23 45 67\n",
            "Enter a list of grades separated by spaces: 54 67 87\n",
            "Hi jkk,lkj,mlo,\n",
            "\n",
            "This is a reminder that you have 23 assignments left to submit before you can graduate. Your current grade is 54.0 and can increase to 100.0 if you submit all assignments before the due date.\n",
            "\n",
            "\n",
            "First 10 characters:\n",
            "We're the \n",
            "\n",
            "Next 15 characters:\n",
            "knights of the \n",
            "\n",
            "Rest of the file:\n",
            "round table\n",
            "We dance whenever we're able\n"
          ]
        }
      ],
      "source": [
        "#########################3 Task 1\n",
        "\n",
        "def population_density(population, land_area):\n",
        "    if land_area <= 0:\n",
        "        raise ValueError(\"Land area must be greater than 0.\")\n",
        "\n",
        "    density = population / land_area\n",
        "    return density\n",
        "\n",
        "# Test cases\n",
        "test1 = population_density(10, 1)\n",
        "expected_result1 = 10\n",
        "print(\"expected result: {}, actual result: {}\".format(expected_result1, test1))\n",
        "\n",
        "test2 = population_density(864816, 121.4)\n",
        "expected_result2 = 7123.6902801\n",
        "print(\"expected result: {}, actual result: {}\".format(expected_result2, test2))\n",
        "\n",
        "\n",
        "########################################Task 2\n",
        "def readable_timedelta(days):\n",
        "    weeks = days // 7\n",
        "    remaining_days = days % 7\n",
        "    return \"{} week(s) and {} day(s).\".format(weeks, remaining_days)\n",
        "# Test the function\n",
        "print(readable_timedelta(10))\n",
        "\n",
        "#######################################Task 3\n",
        "numbers = [\n",
        "    [34, 63, 88, 71, 29],\n",
        "    [90, 78, 51, 27, 45],\n",
        "    [63, 37, 85, 46, 22],\n",
        "    [51, 22, 34, 11, 18]\n",
        "]\n",
        "\n",
        "averages = list(map(lambda num_list: sum(num_list) / len(num_list), numbers))\n",
        "print(averages)\n",
        "#####################################Task 4\n",
        "cities = [\"New York City\", \"Los Angeles\", \"Chicago\", \"Mountain View\", \"Denver\", \"Boston\"]\n",
        "\n",
        "short_cities = list(filter(lambda name: len(name) < 10, cities))\n",
        "print(short_cities)\n",
        "\n",
        "#####################################Task 5\n",
        "# Get and process input for a list of names\n",
        "names_input = input(\"Enter a list of names separated by spaces: \")\n",
        "names = names_input.split()\n",
        "\n",
        "# Get and process input for a list of the number of assignments\n",
        "assignments_input = input(\"Enter a list of the number of assignments separated by spaces: \")\n",
        "assignments = list(map(int, assignments_input.split()))\n",
        "\n",
        "# Get and process input for a list of grades\n",
        "grades_input = input(\"Enter a list of grades separated by spaces: \")\n",
        "grades = list(map(float, grades_input.split()))\n",
        "\n",
        "# Message string to be used for each student\n",
        "message = \"Hi {},\\n\\nThis is a reminder that you have {} assignments left to submit before you can graduate. Your current grade is {} and can increase to {} if you submit all assignments before the due date.\\n\\n\"\n",
        "\n",
        "# Write a for loop that iterates through each set of names, assignments, and grades to print each student's message\n",
        "for name, assignment_count, grade in zip(names, assignments, grades):\n",
        "    potential_grade = grade + 2 * assignment_count\n",
        "    print(message.format(name, assignment_count, grade, potential_grade))\n",
        "\n",
        "#################################Task 6\n",
        "file_content = \"\"\"We're the knights of the round table\n",
        "We dance whenever we're able\"\"\"\n",
        "with open(\"camelot.txt\", \"w\") as f:\n",
        "    f.write(file_content)\n",
        "\n",
        "# Opening the file in read mode\n",
        "with open(\"camelot.txt\", \"r\") as f:\n",
        "    # Reading the first 10 characters\n",
        "    first_10_chars = f.read(10)\n",
        "    print(\"First 10 characters:\")\n",
        "    print(first_10_chars)\n",
        "\n",
        "    # Reading the next 15 characters from the current position\n",
        "    next_15_chars = f.read(15)\n",
        "    print(\"\\nNext 15 characters:\")\n",
        "    print(next_15_chars)\n",
        "\n",
        "    # Reading the remaining content of the file from the current position\n",
        "    rest_of_the_file = f.read()\n",
        "    print(\"\\nRest of the file:\")\n",
        "    print(rest_of_the_file)"
      ]
    }
  ]
}